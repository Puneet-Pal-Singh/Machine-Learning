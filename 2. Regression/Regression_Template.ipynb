{
  "nbformat": 4,
  "nbformat_minor": 0,
  "metadata": {
    "colab": {
      "name": "Regression_Template.ipynb",
      "provenance": [],
      "collapsed_sections": [],
      "authorship_tag": "ABX9TyMmqIq7LL+Iuf2cXRN5FRkj",
      "include_colab_link": true
    },
    "kernelspec": {
      "name": "python3",
      "display_name": "Python 3"
    }
  },
  "cells": [
    {
      "cell_type": "markdown",
      "metadata": {
        "id": "view-in-github",
        "colab_type": "text"
      },
      "source": [
        "<a href=\"https://colab.research.google.com/github/Puneet-Pal-Singh/Machine-Learning/blob/master/Regression/Regression_Template.ipynb\" target=\"_parent\"><img src=\"https://colab.research.google.com/assets/colab-badge.svg\" alt=\"Open In Colab\"/></a>"
      ]
    },
    {
      "cell_type": "code",
      "metadata": {
        "id": "9YPji7jvQux3",
        "colab_type": "code",
        "colab": {}
      },
      "source": [
        "# Regression Template"
      ],
      "execution_count": 0,
      "outputs": []
    },
    {
      "cell_type": "code",
      "metadata": {
        "id": "9q4vQWtsPFuo",
        "colab_type": "code",
        "colab": {}
      },
      "source": [
        "# importing libraries\n",
        "import numpy as np\n",
        "import matplotlib.pyplot as plt\n",
        "import pandas as pd"
      ],
      "execution_count": 0,
      "outputs": []
    },
    {
      "cell_type": "code",
      "metadata": {
        "id": "d6nRMeP4Pnhr",
        "colab_type": "code",
        "colab": {}
      },
      "source": [
        "# importing datasets from drive\n",
        "from google.colab import drive \n",
        "drive.mount('/content/drive/')"
      ],
      "execution_count": 0,
      "outputs": []
    },
    {
      "cell_type": "code",
      "metadata": {
        "id": "u3qlyIm4snb7",
        "colab_type": "code",
        "colab": {}
      },
      "source": [
        "# dataset\n",
        "dataset = pd.read_csv('/content/drive/My Drive/Machine Learning/Machine Learning A-Z Template Folder/Part 2 - Regression/Section 6 - Polynomial Regression/Position_Salaries.csv')\n",
        "# using our dataset\n",
        "X = dataset.iloc[:, 1:2].values\n",
        "y = dataset.iloc[:, 2].values\n",
        "print(dataset)"
      ],
      "execution_count": 0,
      "outputs": []
    },
    {
      "cell_type": "code",
      "metadata": {
        "id": "wj7QBekTZ3VD",
        "colab_type": "code",
        "colab": {}
      },
      "source": [
        "# Splitting the dataset into the Training set and Test set\n",
        "\"\"\"from sklearn.model_selection import train_test_split\n",
        "X_train, X_test, y_train, y_test = train_test_split(X, y, test_size = 0.2, random_state = 0)\"\"\""
      ],
      "execution_count": 0,
      "outputs": []
    },
    {
      "cell_type": "code",
      "metadata": {
        "id": "NVMEAtTXqybg",
        "colab_type": "code",
        "colab": {}
      },
      "source": [
        "# Feature Scaling\n",
        "\"\"\"from sklearn.preprocessing import StandardScaler\n",
        "sc_X = StandardScaler()\n",
        "X_train = sc_X.fit_transform(X_train)\n",
        "X_test = sc_X.transform(X_test)\"\"\"\n",
        "# For y\n",
        "\"\"\"sc_y = StandardScaler()\n",
        "y_train = sc_y.fit_transform(y_train.reshape(-1,1))\"\"\""
      ],
      "execution_count": 0,
      "outputs": []
    },
    {
      "cell_type": "code",
      "metadata": {
        "id": "WtVdInQ4-UpA",
        "colab_type": "code",
        "colab": {}
      },
      "source": [
        "# Fitting the Regression Model to the dataset\n",
        "# Create your regressor here"
      ],
      "execution_count": 0,
      "outputs": []
    },
    {
      "cell_type": "code",
      "metadata": {
        "id": "OEh3RkgpRwKz",
        "colab_type": "code",
        "colab": {}
      },
      "source": [
        "# Predicting a new result\n",
        "y_pred = regressor.predict(6.5)"
      ],
      "execution_count": 0,
      "outputs": []
    },
    {
      "cell_type": "code",
      "metadata": {
        "id": "Hlh4RdGeDz_Y",
        "colab_type": "code",
        "colab": {}
      },
      "source": [
        "# Visualising the Regression results\n",
        "plt.scatter(X, y, color = 'red')\n",
        "plt.plot(X, regressor.predict(X), color = 'blue')\n",
        "plt.title('Truth or Bluff (Regression Model)')\n",
        "plt.xlabel('Position level')\n",
        "plt.ylabel('Salary')\n",
        "plt.show()"
      ],
      "execution_count": 0,
      "outputs": []
    },
    {
      "cell_type": "code",
      "metadata": {
        "id": "FY6qRDLrE6lw",
        "colab_type": "code",
        "colab": {}
      },
      "source": [
        "# Visualising the Regression results\n",
        "\n",
        "# For making predictions with interval of 0.1\n",
        "# For higher resolution and smoother curve \n",
        "X_grid = np.arange(min(X), max(X), 0.1)\n",
        "X_grid = X_grid.reshape((len(X_grid), 1))\n",
        "\n",
        "# Used poly_reg.fit_transform() funcion  and not X_poly as  X_poly is  only one matrix and we want it to work for all matrices thereforeas \n",
        "plt.scatter(X, y, color = 'red')\n",
        "plt.plot(X_grid, regressor.predict(X_grid), color = 'blue')\n",
        "plt.title('Truth or Bluff (Regression Model)')\n",
        "plt.xlabel('Position level')\n",
        "plt.ylabel('Salary')\n",
        "plt.show()\n",
        "# Change degree when fiting the dataset for getting more accurate results eg- 2,3,4 "
      ],
      "execution_count": 0,
      "outputs": []
    }
  ]
}
