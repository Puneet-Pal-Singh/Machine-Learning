{
  "nbformat": 4,
  "nbformat_minor": 0,
  "metadata": {
    "colab": {
      "name": "Apriori.ipynb",
      "provenance": [],
      "collapsed_sections": [],
      "toc_visible": true,
      "mount_file_id": "1iZY1yFuSvA0a4LfqPDq2XRu105JDAEMC",
      "authorship_tag": "ABX9TyMEMqfyB93dfo/kxyUSdE9L",
      "include_colab_link": true
    },
    "kernelspec": {
      "name": "python3",
      "display_name": "Python 3"
    }
  },
  "cells": [
    {
      "cell_type": "markdown",
      "metadata": {
        "id": "view-in-github",
        "colab_type": "text"
      },
      "source": [
        "<a href=\"https://colab.research.google.com/github/Puneet-Pal-Singh/Machine-Learning/blob/master/5.%20Association%20Rule%20Learning/Apriori.ipynb\" target=\"_parent\"><img src=\"https://colab.research.google.com/assets/colab-badge.svg\" alt=\"Open In Colab\"/></a>"
      ]
    },
    {
      "cell_type": "markdown",
      "metadata": {
        "id": "0RuUE-PRCYXH",
        "colab_type": "text"
      },
      "source": [
        "# Association Rule Learning - Apriori"
      ]
    },
    {
      "cell_type": "markdown",
      "metadata": {
        "id": "XS7fwDSjFwc2",
        "colab_type": "text"
      },
      "source": [
        "Importing the libraries"
      ]
    },
    {
      "cell_type": "code",
      "metadata": {
        "id": "Njk6-8xAF0Tk",
        "colab_type": "code",
        "colab": {}
      },
      "source": [
        "import numpy as np\n",
        "import matplotlib.pyplot as plt\n",
        "import pandas as pd"
      ],
      "execution_count": 0,
      "outputs": []
    },
    {
      "cell_type": "markdown",
      "metadata": {
        "id": "Sq-LwpJEF0kc",
        "colab_type": "text"
      },
      "source": [
        "Data Preprocessing"
      ]
    },
    {
      "cell_type": "code",
      "metadata": {
        "id": "A4bYpuLYF01r",
        "colab_type": "code",
        "colab": {}
      },
      "source": [
        "dataset = pd.read_csv('/content/drive/My Drive/Machine Learning/Machine Learning A-Z Template Folder/Part 5 - Association Rule Learning/Section 28 - Apriori/Apriori_Python/Market_Basket_Optimisation.csv', header = None)\n",
        "transactions = []\n",
        "for i in range(0, 7501):\n",
        "    transactions.append([str(dataset.values[i,j]) for j in range(0, 20)])"
      ],
      "execution_count": 0,
      "outputs": []
    },
    {
      "cell_type": "markdown",
      "metadata": {
        "id": "sc-KbL_cF0yB",
        "colab_type": "text"
      },
      "source": [
        "Training Apriori on the dataset"
      ]
    },
    {
      "cell_type": "code",
      "metadata": {
        "id": "dN1mertJJtdX",
        "colab_type": "code",
        "outputId": "b8a615d8-c24d-4130-a9db-aa95a7f2c060",
        "colab": {
          "base_uri": "https://localhost:8080/",
          "height": 34
        }
      },
      "source": [
        "!pip install apyori"
      ],
      "execution_count": 0,
      "outputs": [
        {
          "output_type": "stream",
          "text": [
            "Requirement already satisfied: apyori in /usr/local/lib/python3.6/dist-packages (1.1.2)\n"
          ],
          "name": "stdout"
        }
      ]
    },
    {
      "cell_type": "code",
      "metadata": {
        "id": "fjQvXRH0F0tU",
        "colab_type": "code",
        "colab": {}
      },
      "source": [
        "from apyori import apriori\n",
        "rules = apriori(transactions, min_support = 0.003, min_confidence = 0.2, min_lift = 3, min_length = 2)\n",
        "# min_support = 3*7/7500 = 0.0028 = 0.003\n",
        "# min_confidence which is default confidence 80/2 = 40 , further divide by 2 that is 40/2 = 20 = 0.2 \n",
        "# min_length = 2 as 2 items bought together"
      ],
      "execution_count": 0,
      "outputs": []
    },
    {
      "cell_type": "markdown",
      "metadata": {
        "id": "Pd5KUubHGLnV",
        "colab_type": "text"
      },
      "source": [
        "Visualising the results"
      ]
    },
    {
      "cell_type": "markdown",
      "metadata": {
        "id": "0z0FIrYbXkWW",
        "colab_type": "text"
      },
      "source": [
        "Installing variable inspector for Jupyter notebook\n",
        "https://stackoverflow.com/questions/37718907/variable-explorer-in-jupyter-notebook"
      ]
    },
    {
      "cell_type": "code",
      "metadata": {
        "id": "zjSCVimpGLLV",
        "colab_type": "code",
        "outputId": "095257c2-35bb-4aad-d558-f23a0b469fdb",
        "colab": {
          "base_uri": "https://localhost:8080/",
          "height": 34
        }
      },
      "source": [
        "results = list(rules)\n",
        "print(rules)\n",
        "# print(results)"
      ],
      "execution_count": 0,
      "outputs": [
        {
          "output_type": "stream",
          "text": [
            "<generator object apriori at 0x7fbe77a0db48>\n"
          ],
          "name": "stdout"
        }
      ]
    }
  ]
}