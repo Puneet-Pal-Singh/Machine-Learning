{
  "nbformat": 4,
  "nbformat_minor": 0,
  "metadata": {
    "colab": {
      "name": "Eclat.ipynb",
      "provenance": [],
      "toc_visible": true,
      "mount_file_id": "1jY0rzjmV9Az8ASm0EXa2Ma8tgEED0jmn",
      "authorship_tag": "ABX9TyPHOiNa+ID+VPq8sL+MwklY",
      "include_colab_link": true
    },
    "kernelspec": {
      "name": "python3",
      "display_name": "Python 3"
    }
  },
  "cells": [
    {
      "cell_type": "markdown",
      "metadata": {
        "id": "view-in-github",
        "colab_type": "text"
      },
      "source": [
        "<a href=\"https://colab.research.google.com/github/Puneet-Pal-Singh/Machine-Learning/blob/master/5.%20Association%20Rule%20Learning/Eclat.ipynb\" target=\"_parent\"><img src=\"https://colab.research.google.com/assets/colab-badge.svg\" alt=\"Open In Colab\"/></a>"
      ]
    },
    {
      "cell_type": "markdown",
      "metadata": {
        "id": "HzO0sFtwmAwz",
        "colab_type": "text"
      },
      "source": [
        "# Association Rule Learning - Eclat "
      ]
    },
    {
      "cell_type": "markdown",
      "metadata": {
        "id": "N7h6-MbcnzhL",
        "colab_type": "text"
      },
      "source": [
        "Importing Libraries"
      ]
    },
    {
      "cell_type": "code",
      "metadata": {
        "id": "oLFcxU_onRaA",
        "colab_type": "code",
        "colab": {}
      },
      "source": [
        "import pandas as pd\n",
        "import numpy as np\n",
        "import matplotlib.pyplot as plt"
      ],
      "execution_count": 0,
      "outputs": []
    },
    {
      "cell_type": "markdown",
      "metadata": {
        "id": "BU3LUGMYn3lb",
        "colab_type": "text"
      },
      "source": [
        "Importing the dataset"
      ]
    },
    {
      "cell_type": "code",
      "metadata": {
        "id": "5q64OdZdnRjc",
        "colab_type": "code",
        "colab": {}
      },
      "source": [
        "dataset = pd.read_csv('/content/drive/My Drive/Machine Learning/Machine Learning A-Z Template Folder/Part 5 - Association Rule Learning/Section 29 - Eclat/Market_Basket_Optimisation.csv', header = None)"
      ],
      "execution_count": 0,
      "outputs": []
    },
    {
      "cell_type": "markdown",
      "metadata": {
        "id": "L61UnepaoQxy",
        "colab_type": "text"
      },
      "source": [
        "Training Eclat on dataset"
      ]
    },
    {
      "cell_type": "code",
      "metadata": {
        "id": "SclxgvjMnRWF",
        "colab_type": "code",
        "colab": {}
      },
      "source": [
        "n = len(dataset)\n",
        "transactions = []\n",
        "for i in range(0, n):\n",
        "    transaction = []\n",
        "    m = len(dataset.values[i])\n",
        "    for j in range(0, m):\n",
        "        data = str(dataset.values[i,j])\n",
        "        if data != \"nan\":\n",
        "            transaction.append(data)\n",
        "    transactions.append(transaction)"
      ],
      "execution_count": 0,
      "outputs": []
    },
    {
      "cell_type": "markdown",
      "metadata": {
        "id": "skzkXpdqoM4v",
        "colab_type": "text"
      },
      "source": [
        "Visualizing the results"
      ]
    },
    {
      "cell_type": "code",
      "metadata": {
        "id": "xQcfZctZoaHQ",
        "colab_type": "code",
        "colab": {
          "base_uri": "https://localhost:8080/",
          "height": 34
        },
        "outputId": "e4bb9635-5a1e-4542-84f0-68ff95952ef2"
      },
      "source": [
        "!pip install pyfim"
      ],
      "execution_count": 4,
      "outputs": [
        {
          "output_type": "stream",
          "text": [
            "Requirement already satisfied: pyfim in /usr/local/lib/python3.6/dist-packages (6.28)\n"
          ],
          "name": "stdout"
        }
      ]
    },
    {
      "cell_type": "code",
      "metadata": {
        "id": "lq2kfTa9nRQq",
        "colab_type": "code",
        "colab": {
          "base_uri": "https://localhost:8080/",
          "height": 54
        },
        "outputId": "2a9453d2-2c4e-4bbe-892b-5a7b4f759798"
      },
      "source": [
        "from fim import eclat #PyFIM module needs to be installed\n",
        "rules = eclat(tracts = transactions, supp = 3, zmin=2, report='S') #support in %\n",
        "rules.sort(key = lambda x: x[1], reverse = True) #sorting in descending order\n",
        "print(rules)"
      ],
      "execution_count": 6,
      "outputs": [
        {
          "output_type": "stream",
          "text": [
            "[(('spaghetti', 'mineral water'), 5.972536995067324), (('chocolate', 'mineral water'), 5.265964538061592), (('eggs', 'mineral water'), 5.092654312758299), (('milk', 'mineral water'), 4.799360085321957), (('ground beef', 'mineral water'), 4.092787628316224), (('chocolate', 'spaghetti'), 3.9194774030129316), (('ground beef', 'spaghetti'), 3.9194774030129316), (('eggs', 'spaghetti'), 3.6528462871617116), (('french fries', 'eggs'), 3.6395147313691507), (('frozen vegetables', 'mineral water'), 3.572856952406346), (('milk', 'spaghetti'), 3.546193840821224), (('french fries', 'chocolate'), 3.439541394480736), (('french fries', 'mineral water'), 3.372883615517931), (('pancakes', 'mineral water'), 3.372883615517931), (('chocolate', 'eggs'), 3.319557392347687), (('milk', 'chocolate'), 3.212904946007199), (('green tea', 'mineral water'), 3.106252499666711), (('milk', 'eggs'), 3.079589388081589)]\n"
          ],
          "name": "stdout"
        }
      ]
    }
  ]
}