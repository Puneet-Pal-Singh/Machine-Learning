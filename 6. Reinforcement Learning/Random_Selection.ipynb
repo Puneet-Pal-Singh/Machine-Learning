{
  "nbformat": 4,
  "nbformat_minor": 0,
  "metadata": {
    "colab": {
      "name": "Random Selection.ipynb",
      "provenance": [],
      "mount_file_id": "1z9rI8x6lpX4dUHwZSSFSgaINHh1GfHDw",
      "authorship_tag": "ABX9TyNF8ZFX3wnG8f5dHaIRTiSe",
      "include_colab_link": true
    },
    "kernelspec": {
      "name": "python3",
      "display_name": "Python 3"
    }
  },
  "cells": [
    {
      "cell_type": "markdown",
      "metadata": {
        "id": "view-in-github",
        "colab_type": "text"
      },
      "source": [
        "<a href=\"https://colab.research.google.com/github/Puneet-Pal-Singh/Machine-Learning/blob/master/6.%20Reinforcement%20Learning/Random_Selection.ipynb\" target=\"_parent\"><img src=\"https://colab.research.google.com/assets/colab-badge.svg\" alt=\"Open In Colab\"/></a>"
      ]
    },
    {
      "cell_type": "code",
      "metadata": {
        "id": "tc_JCDGxckkd",
        "colab_type": "code",
        "colab": {}
      },
      "source": [
        "# Reinforcement Learning\n",
        "# Random Selection\n",
        "\n",
        "# Importing the libraries\n",
        "import numpy as np\n",
        "import matplotlib.pyplot as plt\n",
        "import pandas as pd"
      ],
      "execution_count": 0,
      "outputs": []
    },
    {
      "cell_type": "code",
      "metadata": {
        "id": "zHOuhEpNcwtS",
        "colab_type": "code",
        "colab": {}
      },
      "source": [
        "# Importing the dataset\n",
        "dataset = pd.read_csv('/content/drive/My Drive/Machine Learning/Machine Learning A-Z Template Folder/Part 6 - Reinforcement Learning/Section 32 - Upper Confidence Bound (UCB)/Ads_CTR_Optimisation.csv')"
      ],
      "execution_count": 0,
      "outputs": []
    },
    {
      "cell_type": "code",
      "metadata": {
        "id": "gTbrVpkzc0uG",
        "colab_type": "code",
        "colab": {
          "base_uri": "https://localhost:8080/",
          "height": 190
        },
        "outputId": "a9151199-fa17-4fab-8ba7-6da1cf3e43d5"
      },
      "source": [
        "!pip install random2"
      ],
      "execution_count": 3,
      "outputs": [
        {
          "output_type": "stream",
          "text": [
            "Collecting random2\n",
            "  Downloading https://files.pythonhosted.org/packages/ee/b5/5aca5217501fbd06b1e5aed6d5986baa0da5380880e6bb6f421ed18e3a32/random2-1.0.1.zip\n",
            "Building wheels for collected packages: random2\n",
            "  Building wheel for random2 (setup.py) ... \u001b[?25l\u001b[?25hdone\n",
            "  Created wheel for random2: filename=random2-1.0.1-cp36-none-any.whl size=12071 sha256=156443f1abfce23b74134e2eeb7df243a02db6490a4b879479b6fc4d5834c972\n",
            "  Stored in directory: /root/.cache/pip/wheels/36/a1/eb/8b267e15c260cf21ca104e217f46587db40eaa906cb04d37c0\n",
            "Successfully built random2\n",
            "Installing collected packages: random2\n",
            "Successfully installed random2-1.0.1\n"
          ],
          "name": "stdout"
        }
      ]
    },
    {
      "cell_type": "code",
      "metadata": {
        "id": "UKfnckPEc6ZB",
        "colab_type": "code",
        "colab": {}
      },
      "source": [
        "# Implementing Random Selection\n",
        "import random\n",
        "N = 10000\n",
        "d = 10\n",
        "ads_selected = []\n",
        "total_reward = 0\n",
        "for n in range(0, N):\n",
        "    ad = random.randrange(d)\n",
        "    ads_selected.append(ad)\n",
        "    reward = dataset.values[n, ad]\n",
        "    total_reward = total_reward + reward"
      ],
      "execution_count": 0,
      "outputs": []
    },
    {
      "cell_type": "code",
      "metadata": {
        "id": "mUWNIuN3c6Uu",
        "colab_type": "code",
        "colab": {
          "base_uri": "https://localhost:8080/",
          "height": 295
        },
        "outputId": "abfe036d-b8f2-492d-adde-83c03c7a7d62"
      },
      "source": [
        "# Visualising the results\n",
        "plt.hist(ads_selected)\n",
        "plt.title('Histogram of ads selections')\n",
        "plt.xlabel('Ads')\n",
        "plt.ylabel('Number of times each ad was selected')\n",
        "plt.show()"
      ],
      "execution_count": 5,
      "outputs": [
        {
          "output_type": "display_data",
          "data": {
            "image/png": "[encoded data removed]",
            "text/plain": [
              "<Figure size 432x288 with 1 Axes>"
            ]
          },
          "metadata": {
            "tags": [],
            "needs_background": "light"
          }
        }
      ]
    }
  ]
}