{
  "nbformat": 4,
  "nbformat_minor": 0,
  "metadata": {
    "colab": {
      "name": "Upper_Confidence_Bound (UCB).ipynb",
      "provenance": [],
      "mount_file_id": "1zWzhygJ_D9XzEGSgb81yLmbzbLu3N9uU",
      "authorship_tag": "ABX9TyPV3Jspvx9pqEeemN+ajzqH",
      "include_colab_link": true
    },
    "kernelspec": {
      "name": "python3",
      "display_name": "Python 3"
    }
  },
  "cells": [
    {
      "cell_type": "markdown",
      "metadata": {
        "id": "view-in-github",
        "colab_type": "text"
      },
      "source": [
        "<a href=\"https://colab.research.google.com/github/Puneet-Pal-Singh/Machine-Learning/blob/master/6.%20Reinforcement%20Learning/Upper_Confidence_Bound_(UCB).ipynb\" target=\"_parent\"><img src=\"https://colab.research.google.com/assets/colab-badge.svg\" alt=\"Open In Colab\"/></a>"
      ]
    },
    {
      "cell_type": "code",
      "metadata": {
        "id": "js2ti_r-sKKG",
        "colab_type": "code",
        "colab": {}
      },
      "source": [
        "# Reinforcement Learning - Upper Confidence Bound (UCB)\n",
        "\n",
        "# Importing the libraries\n",
        "import numpy as np\n",
        "import matplotlib.pyplot as plt\n",
        "import pandas as pd"
      ],
      "execution_count": 0,
      "outputs": []
    },
    {
      "cell_type": "code",
      "metadata": {
        "id": "tJXE1akht_q5",
        "colab_type": "code",
        "colab": {}
      },
      "source": [
        "# Importing the dataset\n",
        "dataset = pd.read_csv('/content/drive/My Drive/Machine Learning/Machine Learning A-Z Template Folder/Part 6 - Reinforcement Learning/Section 32 - Upper Confidence Bound (UCB)/Ads_CTR_Optimisation.csv')"
      ],
      "execution_count": 0,
      "outputs": []
    },
    {
      "cell_type": "code",
      "metadata": {
        "id": "lVSouvbDxAJX",
        "colab_type": "code",
        "outputId": "fd31f409-2777-4b8c-a021-db2ef16332ac",
        "colab": {
          "base_uri": "https://localhost:8080/",
          "height": 231
        }
      },
      "source": [
        "# Implementing UCB\n",
        "import math\n",
        "N = 10000\n",
        "d = 10\n",
        "ads_selected = []\n",
        "number_of_selections = [0] * d\n",
        "sums_of_rewards = [0] * d\n",
        "total_reward = 0\n",
        "for n in range(0, N):\n",
        "  ad = 0\n",
        "  max_upper_bound = 0\n",
        "  for i in range(0, d):\n",
        "    if (number_of_selections[i] > 0):\n",
        "      average_reward = sums_of_rewards[i] / number_of_selections[i]\n",
        "      delta_i = math.sqrt(3/2 * math.log(n +1) / number_of_selections[i])\n",
        "      upper_bound = average_reward + delta_i\n",
        "    else:\n",
        "      upper_bound = 1e400 \n",
        "    if upper_bound > max_upper_bound:\n",
        "      max_upper_bound = upper_bound\n",
        "      ad = i\n",
        "  ads_selected.append(ad)    \n",
        "  number_of_selections[ad] = number_of_selections[ad] + 1\n",
        "  reward = dataset.values[n, ad]\n",
        "  sums_of_rewards[ad] = sums_of_rewards + reward\n",
        "  total_reward = total_reward + reward"
      ],
      "execution_count": 3,
      "outputs": [
        {
          "output_type": "error",
          "ename": "ValueError",
          "evalue": "ignored",
          "traceback": [
            "\u001b[0;31m---------------------------------------------------------------------------\u001b[0m",
            "\u001b[0;31mValueError\u001b[0m                                Traceback (most recent call last)",
            "\u001b[0;32m<ipython-input-3-e4fec7211df6>\u001b[0m in \u001b[0;36m<module>\u001b[0;34m()\u001b[0m\n\u001b[1;32m     16\u001b[0m     \u001b[0;32melse\u001b[0m\u001b[0;34m:\u001b[0m\u001b[0;34m\u001b[0m\u001b[0;34m\u001b[0m\u001b[0m\n\u001b[1;32m     17\u001b[0m       \u001b[0mupper_bound\u001b[0m \u001b[0;34m=\u001b[0m \u001b[0;36m1e400\u001b[0m\u001b[0;34m\u001b[0m\u001b[0;34m\u001b[0m\u001b[0m\n\u001b[0;32m---> 18\u001b[0;31m     \u001b[0;32mif\u001b[0m \u001b[0mupper_bound\u001b[0m \u001b[0;34m>\u001b[0m \u001b[0mmax_upper_bound\u001b[0m\u001b[0;34m:\u001b[0m\u001b[0;34m\u001b[0m\u001b[0;34m\u001b[0m\u001b[0m\n\u001b[0m\u001b[1;32m     19\u001b[0m       \u001b[0mmax_upper_bound\u001b[0m \u001b[0;34m=\u001b[0m \u001b[0mupper_bound\u001b[0m\u001b[0;34m\u001b[0m\u001b[0;34m\u001b[0m\u001b[0m\n\u001b[1;32m     20\u001b[0m       \u001b[0mad\u001b[0m \u001b[0;34m=\u001b[0m \u001b[0mi\u001b[0m\u001b[0;34m\u001b[0m\u001b[0;34m\u001b[0m\u001b[0m\n",
            "\u001b[0;31mValueError\u001b[0m: The truth value of an array with more than one element is ambiguous. Use a.any() or a.all()"
          ]
        }
      ]
    },
    {
      "cell_type": "code",
      "metadata": {
        "id": "HBFEYVFguH0m",
        "colab_type": "code",
        "colab": {}
      },
      "source": [
        "# Visualising the results\n",
        "plt.hist(ads_selected)\n",
        "plt.title('Histogram of ads selections')\n",
        "plt.xlabel('Ads')\n",
        "plt.ylabel('Number of times each ad was selected')\n",
        "plt.show()"
      ],
      "execution_count": 0,
      "outputs": []
    }
  ]
}