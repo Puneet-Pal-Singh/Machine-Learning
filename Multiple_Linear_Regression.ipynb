{
  "nbformat": 4,
  "nbformat_minor": 0,
  "metadata": {
    "colab": {
      "name": "Multiple_Linear_Regression.ipynb",
      "provenance": [],
      "authorship_tag": "ABX9TyPx6CS7beSa7ozJzYoNsQpc",
      "include_colab_link": true
    },
    "kernelspec": {
      "name": "python3",
      "display_name": "Python 3"
    }
  },
  "cells": [
    {
      "cell_type": "markdown",
      "metadata": {
        "id": "view-in-github",
        "colab_type": "text"
      },
      "source": [
        "<a href=\"https://colab.research.google.com/github/Puneet-Pal-Singh/Machine-Learning/blob/master/Multiple_Linear_Regression.ipynb\" target=\"_parent\"><img src=\"https://colab.research.google.com/assets/colab-badge.svg\" alt=\"Open In Colab\"/></a>"
      ]
    },
    {
      "cell_type": "code",
      "metadata": {
        "id": "z4dpV3fa-C0i",
        "colab_type": "code",
        "colab": {}
      },
      "source": [
        "# Multiple Linear Regression"
      ],
      "execution_count": 0,
      "outputs": []
    },
    {
      "cell_type": "code",
      "metadata": {
        "id": "9q4vQWtsPFuo",
        "colab_type": "code",
        "colab": {}
      },
      "source": [
        "# importing libraries\n",
        "import numpy as np\n",
        "import matplotlib.pyplot as plt\n",
        "import pandas as pd\n"
      ],
      "execution_count": 0,
      "outputs": []
    },
    {
      "cell_type": "code",
      "metadata": {
        "id": "d6nRMeP4Pnhr",
        "colab_type": "code",
        "colab": {}
      },
      "source": [
        "# importing datasets from drive\n",
        "from google.colab import drive \n",
        "drive.mount('/content/drive/')"
      ],
      "execution_count": 0,
      "outputs": []
    },
    {
      "cell_type": "code",
      "metadata": {
        "id": "u3qlyIm4snb7",
        "colab_type": "code",
        "colab": {}
      },
      "source": [
        "# dataset\n",
        "dataset = pd.read_csv('/content/drive/My Drive/Machine Learning/Machine Learning A-Z Template Folder/Part 2 - Regression/Section 5 - Multiple Linear Regression/50_Startups.csv')\n",
        "# using our dataset\n",
        "X = dataset.iloc[:, :-1].values\n",
        "y = dataset.iloc[:, 4].values\n",
        "print(X)\n"
      ],
      "execution_count": 0,
      "outputs": []
    },
    {
      "cell_type": "code",
      "metadata": {
        "id": "wb4Ts-FC_a2R",
        "colab_type": "code",
        "colab": {}
      },
      "source": [
        "# Encoding categorical data\n",
        "# Encoding the Independent Variable\n",
        "from sklearn.preprocessing import OneHotEncoder\n",
        "from sklearn.compose import ColumnTransformer\n",
        "ct = ColumnTransformer([('encoder', OneHotEncoder(), [3])], remainder='passthrough')\n",
        "X = np.array(ct.fit_transform(X), dtype=np.float)\n",
        "print(X)"
      ],
      "execution_count": 0,
      "outputs": []
    },
    {
      "cell_type": "code",
      "metadata": {
        "id": "xieGEcTWBqXu",
        "colab_type": "code",
        "colab": {}
      },
      "source": [
        "# Avoiding the dummy variable trap\n",
        "X = X[:, 1:]\n",
        "print(X[:, 1:])"
      ],
      "execution_count": 0,
      "outputs": []
    },
    {
      "cell_type": "code",
      "metadata": {
        "id": "wj7QBekTZ3VD",
        "colab_type": "code",
        "colab": {}
      },
      "source": [
        "# Splitting the dataset into the Training set and Test set\n",
        "from sklearn.model_selection import train_test_split\n",
        "X_train, X_test, y_train, y_test = train_test_split(X, y, test_size = 0.2, random_state = 0)"
      ],
      "execution_count": 0,
      "outputs": []
    },
    {
      "cell_type": "code",
      "metadata": {
        "id": "NVMEAtTXqybg",
        "colab_type": "code",
        "colab": {}
      },
      "source": [
        "# Feature Scaling\n",
        "\"\"\"from sklearn.preprocessing import StandardScaler\n",
        "sc_X = StandardScaler()\n",
        "X_train = sc_X.fit_transform(X_train)\n",
        "X_test = sc_X.transform(X_test)\"\"\"\n",
        "# For y\n",
        "\"\"\"sc_y = StandardScaler()\n",
        "y_train = sc_y.fit_transform(y_train.reshape(-1,1))\"\"\"\n"
      ],
      "execution_count": 0,
      "outputs": []
    },
    {
      "cell_type": "code",
      "metadata": {
        "id": "Y6osjiX3EHYv",
        "colab_type": "code",
        "colab": {
          "base_uri": "https://localhost:8080/",
          "height": 34
        },
        "outputId": "a7f183da-555a-4ce8-cb9f-b8737d8508ad"
      },
      "source": [
        "# Fitting Multiple Linear Regression to the Training set\n",
        "from sklearn.linear_model import LinearRegression\n",
        "regressor = LinearRegression()\n",
        "regressor.fit(X_train, y_train)"
      ],
      "execution_count": 33,
      "outputs": [
        {
          "output_type": "execute_result",
          "data": {
            "text/plain": [
              "LinearRegression(copy_X=True, fit_intercept=True, n_jobs=None, normalize=False)"
            ]
          },
          "metadata": {
            "tags": []
          },
          "execution_count": 33
        }
      ]
    },
    {
      "cell_type": "code",
      "metadata": {
        "id": "6OUfAsodFfHL",
        "colab_type": "code",
        "colab": {}
      },
      "source": [
        "# Predicting the test set results\n",
        "y_pred = regressor.predict(X_test) \n",
        "print(y_pred)\n",
        "print(y_test)"
      ],
      "execution_count": 0,
      "outputs": []
    },
    {
      "cell_type": "code",
      "metadata": {
        "id": "aO3CXvWyGxLv",
        "colab_type": "code",
        "colab": {}
      },
      "source": [
        "print(X)"
      ],
      "execution_count": 0,
      "outputs": []
    },
    {
      "cell_type": "code",
      "metadata": {
        "id": "WCZyAYvpI28B",
        "colab_type": "code",
        "colab": {
          "base_uri": "https://localhost:8080/",
          "height": 561
        },
        "outputId": "2d16c1a6-2dd2-42f4-ba24-debef53efc15"
      },
      "source": [
        "# Buildng the optimal model using Backword Elimimination\n",
        "import statsmodels.api as sm\n",
        "# X = np.append(arr = X , values = np.ones(50, 1).astype(int), axis = 1)\n",
        "# For adding columns of ones at beginning of matrix X\n",
        "X = np.append(arr = np.ones((50, 1)).astype(int) , values = X, axis = 1)\n",
        "# print(X)\n",
        "X_opt = X[:, [0,1,2,3,4,5]]\n",
        "regressor_OLS = sm.OLS(endog = y, exog = X_opt).fit()\n",
        "regressor_OLS.summary()\n",
        "print(regressor_OLS.summary())\n",
        "\n",
        "\n",
        "X_opt = X[:, [0,1,3,4,5]]\n",
        "regressor_OLS = sm.OLS(endog = y, exog = X_opt).fit()\n",
        "regressor_OLS.summary()"
      ],
      "execution_count": 63,
      "outputs": [
        {
          "output_type": "stream",
          "text": [
            "                            OLS Regression Results                            \n",
            "==============================================================================\n",
            "Dep. Variable:                      y   R-squared:                       0.024\n",
            "Model:                            OLS   Adj. R-squared:                 -0.018\n",
            "Method:                 Least Squares   F-statistic:                    0.5748\n",
            "Date:                Tue, 18 Feb 2020   Prob (F-statistic):              0.567\n",
            "Time:                        04:05:46   Log-Likelihood:                -600.05\n",
            "No. Observations:                  50   AIC:                             1206.\n",
            "Df Residuals:                      47   BIC:                             1212.\n",
            "Df Model:                           2                                         \n",
            "Covariance Type:            nonrobust                                         \n",
            "==============================================================================\n",
            "                 coef    std err          t      P>|t|      [0.025      0.975]\n",
            "------------------------------------------------------------------------------\n",
            "const       2.598e+04   2465.409     10.536      0.000     2.1e+04    3.09e+04\n",
            "x1          2.598e+04   2465.409     10.536      0.000     2.1e+04    3.09e+04\n",
            "x2          2.598e+04   2465.409     10.536      0.000     2.1e+04    3.09e+04\n",
            "x3          2.598e+04   2465.409     10.536      0.000     2.1e+04    3.09e+04\n",
            "x4          1.487e+04   1.42e+04      1.050      0.299   -1.36e+04    4.34e+04\n",
            "x5          9851.2712   1.39e+04      0.706      0.483   -1.82e+04    3.79e+04\n",
            "==============================================================================\n",
            "Omnibus:                        0.111   Durbin-Watson:                   0.081\n",
            "Prob(Omnibus):                  0.946   Jarque-Bera (JB):                0.207\n",
            "Skew:                           0.104   Prob(JB):                        0.902\n",
            "Kurtosis:                       2.762   Cond. No.                     7.13e+18\n",
            "==============================================================================\n",
            "\n",
            "Warnings:\n",
            "[1] Standard Errors assume that the covariance matrix of the errors is correctly specified.\n",
            "[2] The smallest eigenvalue is 4.15e-36. This might indicate that there are\n",
            "strong multicollinearity problems or that the design matrix is singular.\n"
          ],
          "name": "stdout"
        },
        {
          "output_type": "execute_result",
          "data": {
            "text/plain": [
              "'X_opt = X[:, [0,1,3,4,5]]\\nregressor_OLS = sm.OLS(endog = y, exog = X_opt).fit()\\nregressor_OLS.summary()'"
            ]
          },
          "metadata": {
            "tags": []
          },
          "execution_count": 63
        }
      ]
    },
    {
      "cell_type": "markdown",
      "metadata": {
        "id": "N0oeD4aKdTbz",
        "colab_type": "text"
      },
      "source": [
        ""
      ]
    },
    {
      "cell_type": "code",
      "metadata": {
        "id": "lGi_9b61MWZa",
        "colab_type": "code",
        "colab": {}
      },
      "source": [
        ""
      ],
      "execution_count": 0,
      "outputs": []
    }
  ]
}